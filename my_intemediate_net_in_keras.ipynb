{
 "cells": [
  {
   "cell_type": "markdown",
   "metadata": {},
   "source": [
    "#  Intermediate Net in Keras"
   ]
  },
  {
   "cell_type": "markdown",
   "metadata": {},
   "source": [
    "Building a intermediateneural netwok to classift MNIST digits"
   ]
  },
  {
   "cell_type": "markdown",
   "metadata": {},
   "source": [
    "The images are 28 pixels by 28 pixels, total 784 pixels"
   ]
  },
  {
   "cell_type": "markdown",
   "metadata": {},
   "source": [
    "#### Set seed for reproducibility"
   ]
  },
  {
   "cell_type": "code",
   "execution_count": 1,
   "metadata": {},
   "outputs": [],
   "source": [
    "import numpy as np\n",
    "np.random.seed(42)"
   ]
  },
  {
   "cell_type": "code",
   "execution_count": 23,
   "metadata": {},
   "outputs": [],
   "source": [
    "from IPython.core.interactiveshell import InteractiveShell\n",
    "InteractiveShell.ast_node_interactivity = \"all\""
   ]
  },
  {
   "cell_type": "markdown",
   "metadata": {},
   "source": [
    "#### Load dependencies"
   ]
  },
  {
   "cell_type": "code",
   "execution_count": 24,
   "metadata": {},
   "outputs": [],
   "source": [
    "import keras\n",
    "from keras.datasets import mnist\n",
    "from keras.models import Sequential\n",
    "from keras.layers import Dense\n",
    "from keras.optimizers import SGD #stochastic Gradient Descent"
   ]
  },
  {
   "cell_type": "markdown",
   "metadata": {},
   "source": [
    "#### Load Data"
   ]
  },
  {
   "cell_type": "code",
   "execution_count": 25,
   "metadata": {},
   "outputs": [],
   "source": [
    "(X_train, y_train), (X_test, y_test) = mnist.load_data()"
   ]
  },
  {
   "cell_type": "code",
   "execution_count": 26,
   "metadata": {},
   "outputs": [
    {
     "data": {
      "text/plain": [
       "(60000, 28, 28)"
      ]
     },
     "execution_count": 26,
     "metadata": {},
     "output_type": "execute_result"
    },
    {
     "data": {
      "text/plain": [
       "(60000,)"
      ]
     },
     "execution_count": 26,
     "metadata": {},
     "output_type": "execute_result"
    }
   ],
   "source": [
    "X_train.shape\n",
    "y_train.shape"
   ]
  },
  {
   "cell_type": "code",
   "execution_count": 5,
   "metadata": {},
   "outputs": [
    {
     "data": {
      "text/plain": [
       "array([5, 0, 4, 1, 9, 2, 1, 3, 1, 4, 3, 5, 3, 6, 1, 7, 2, 8, 6, 9, 4, 0,\n",
       "       9, 1, 1, 2, 4, 3, 2, 7, 3, 8, 6, 9, 0, 5, 6, 0, 7, 6, 1, 8, 7, 9,\n",
       "       3, 9, 8, 5, 9, 3, 3, 0, 7, 4, 9, 8, 0, 9, 4, 1, 4, 4, 6, 0, 4, 5,\n",
       "       6, 1, 0, 0, 1, 7, 1, 6, 3, 0, 2, 1, 1, 7, 9, 0, 2, 6, 7, 8, 3, 9,\n",
       "       0, 4, 6, 7, 4, 6, 8, 0, 7, 8, 3], dtype=uint8)"
      ]
     },
     "execution_count": 5,
     "metadata": {},
     "output_type": "execute_result"
    }
   ],
   "source": [
    "y_train[0:99]"
   ]
  },
  {
   "cell_type": "code",
   "execution_count": 6,
   "metadata": {},
   "outputs": [
    {
     "data": {
      "text/plain": [
       "array([[  0,   0,   0,   0,   0,   0,   0,   0,   0,   0,   0,   0,   0,\n",
       "          0,   0,   0,   0,   0,   0,   0,   0,   0,   0,   0,   0,   0,\n",
       "          0,   0],\n",
       "       [  0,   0,   0,   0,   0,   0,   0,   0,   0,   0,   0,   0,   0,\n",
       "          0,   0,   0,   0,   0,   0,   0,   0,   0,   0,   0,   0,   0,\n",
       "          0,   0],\n",
       "       [  0,   0,   0,   0,   0,   0,   0,   0,   0,   0,   0,   0,   0,\n",
       "          0,   0,   0,   0,   0,   0,   0,   0,   0,   0,   0,   0,   0,\n",
       "          0,   0],\n",
       "       [  0,   0,   0,   0,   0,   0,   0,   0,   0,   0,   0,   0,   0,\n",
       "          0,   0,   0,   0,   0,   0,   0,   0,   0,   0,   0,   0,   0,\n",
       "          0,   0],\n",
       "       [  0,   0,   0,   0,   0,   0,   0,   0,   0,   0,   0,   0,   0,\n",
       "          0,   0,   0,   0,   0,   0,   0,   0,   0,   0,   0,   0,   0,\n",
       "          0,   0],\n",
       "       [  0,   0,   0,   0,   0,   0,   0,   0,   0,   0,   0,   0,   3,\n",
       "         18,  18,  18, 126, 136, 175,  26, 166, 255, 247, 127,   0,   0,\n",
       "          0,   0],\n",
       "       [  0,   0,   0,   0,   0,   0,   0,   0,  30,  36,  94, 154, 170,\n",
       "        253, 253, 253, 253, 253, 225, 172, 253, 242, 195,  64,   0,   0,\n",
       "          0,   0],\n",
       "       [  0,   0,   0,   0,   0,   0,   0,  49, 238, 253, 253, 253, 253,\n",
       "        253, 253, 253, 253, 251,  93,  82,  82,  56,  39,   0,   0,   0,\n",
       "          0,   0],\n",
       "       [  0,   0,   0,   0,   0,   0,   0,  18, 219, 253, 253, 253, 253,\n",
       "        253, 198, 182, 247, 241,   0,   0,   0,   0,   0,   0,   0,   0,\n",
       "          0,   0],\n",
       "       [  0,   0,   0,   0,   0,   0,   0,   0,  80, 156, 107, 253, 253,\n",
       "        205,  11,   0,  43, 154,   0,   0,   0,   0,   0,   0,   0,   0,\n",
       "          0,   0],\n",
       "       [  0,   0,   0,   0,   0,   0,   0,   0,   0,  14,   1, 154, 253,\n",
       "         90,   0,   0,   0,   0,   0,   0,   0,   0,   0,   0,   0,   0,\n",
       "          0,   0],\n",
       "       [  0,   0,   0,   0,   0,   0,   0,   0,   0,   0,   0, 139, 253,\n",
       "        190,   2,   0,   0,   0,   0,   0,   0,   0,   0,   0,   0,   0,\n",
       "          0,   0],\n",
       "       [  0,   0,   0,   0,   0,   0,   0,   0,   0,   0,   0,  11, 190,\n",
       "        253,  70,   0,   0,   0,   0,   0,   0,   0,   0,   0,   0,   0,\n",
       "          0,   0],\n",
       "       [  0,   0,   0,   0,   0,   0,   0,   0,   0,   0,   0,   0,  35,\n",
       "        241, 225, 160, 108,   1,   0,   0,   0,   0,   0,   0,   0,   0,\n",
       "          0,   0],\n",
       "       [  0,   0,   0,   0,   0,   0,   0,   0,   0,   0,   0,   0,   0,\n",
       "         81, 240, 253, 253, 119,  25,   0,   0,   0,   0,   0,   0,   0,\n",
       "          0,   0],\n",
       "       [  0,   0,   0,   0,   0,   0,   0,   0,   0,   0,   0,   0,   0,\n",
       "          0,  45, 186, 253, 253, 150,  27,   0,   0,   0,   0,   0,   0,\n",
       "          0,   0],\n",
       "       [  0,   0,   0,   0,   0,   0,   0,   0,   0,   0,   0,   0,   0,\n",
       "          0,   0,  16,  93, 252, 253, 187,   0,   0,   0,   0,   0,   0,\n",
       "          0,   0],\n",
       "       [  0,   0,   0,   0,   0,   0,   0,   0,   0,   0,   0,   0,   0,\n",
       "          0,   0,   0,   0, 249, 253, 249,  64,   0,   0,   0,   0,   0,\n",
       "          0,   0],\n",
       "       [  0,   0,   0,   0,   0,   0,   0,   0,   0,   0,   0,   0,   0,\n",
       "          0,  46, 130, 183, 253, 253, 207,   2,   0,   0,   0,   0,   0,\n",
       "          0,   0],\n",
       "       [  0,   0,   0,   0,   0,   0,   0,   0,   0,   0,   0,   0,  39,\n",
       "        148, 229, 253, 253, 253, 250, 182,   0,   0,   0,   0,   0,   0,\n",
       "          0,   0],\n",
       "       [  0,   0,   0,   0,   0,   0,   0,   0,   0,   0,  24, 114, 221,\n",
       "        253, 253, 253, 253, 201,  78,   0,   0,   0,   0,   0,   0,   0,\n",
       "          0,   0],\n",
       "       [  0,   0,   0,   0,   0,   0,   0,   0,  23,  66, 213, 253, 253,\n",
       "        253, 253, 198,  81,   2,   0,   0,   0,   0,   0,   0,   0,   0,\n",
       "          0,   0],\n",
       "       [  0,   0,   0,   0,   0,   0,  18, 171, 219, 253, 253, 253, 253,\n",
       "        195,  80,   9,   0,   0,   0,   0,   0,   0,   0,   0,   0,   0,\n",
       "          0,   0],\n",
       "       [  0,   0,   0,   0,  55, 172, 226, 253, 253, 253, 253, 244, 133,\n",
       "         11,   0,   0,   0,   0,   0,   0,   0,   0,   0,   0,   0,   0,\n",
       "          0,   0],\n",
       "       [  0,   0,   0,   0, 136, 253, 253, 253, 212, 135, 132,  16,   0,\n",
       "          0,   0,   0,   0,   0,   0,   0,   0,   0,   0,   0,   0,   0,\n",
       "          0,   0],\n",
       "       [  0,   0,   0,   0,   0,   0,   0,   0,   0,   0,   0,   0,   0,\n",
       "          0,   0,   0,   0,   0,   0,   0,   0,   0,   0,   0,   0,   0,\n",
       "          0,   0],\n",
       "       [  0,   0,   0,   0,   0,   0,   0,   0,   0,   0,   0,   0,   0,\n",
       "          0,   0,   0,   0,   0,   0,   0,   0,   0,   0,   0,   0,   0,\n",
       "          0,   0],\n",
       "       [  0,   0,   0,   0,   0,   0,   0,   0,   0,   0,   0,   0,   0,\n",
       "          0,   0,   0,   0,   0,   0,   0,   0,   0,   0,   0,   0,   0,\n",
       "          0,   0]], dtype=uint8)"
      ]
     },
     "execution_count": 6,
     "metadata": {},
     "output_type": "execute_result"
    }
   ],
   "source": [
    "X_train[0]\n",
    "# 0's represents white color, 255 is the darkest, black."
   ]
  },
  {
   "cell_type": "code",
   "execution_count": 7,
   "metadata": {},
   "outputs": [
    {
     "data": {
      "text/plain": [
       "(10000, 28, 28)"
      ]
     },
     "execution_count": 7,
     "metadata": {},
     "output_type": "execute_result"
    }
   ],
   "source": [
    "X_test.shape"
   ]
  },
  {
   "cell_type": "code",
   "execution_count": 8,
   "metadata": {},
   "outputs": [
    {
     "data": {
      "text/plain": [
       "(10000,)"
      ]
     },
     "execution_count": 8,
     "metadata": {},
     "output_type": "execute_result"
    }
   ],
   "source": [
    "y_test.shape"
   ]
  },
  {
   "cell_type": "markdown",
   "metadata": {},
   "source": [
    "#### Preprocess data"
   ]
  },
  {
   "cell_type": "code",
   "execution_count": 9,
   "metadata": {},
   "outputs": [],
   "source": [
    "# 60000 images converted into 784*1 array and dataype converted into float32\n",
    "X_train = X_train.reshape(60000, 784).astype('float32')\n",
    "X_test = X_test.reshape(10000, 784).astype('float32')"
   ]
  },
  {
   "cell_type": "code",
   "execution_count": 10,
   "metadata": {},
   "outputs": [],
   "source": [
    "## we normalize and make the highest value 1 instead of 255\n",
    "\n",
    "X_train /= 255\n",
    "X_test /= 255"
   ]
  },
  {
   "cell_type": "code",
   "execution_count": 11,
   "metadata": {},
   "outputs": [
    {
     "data": {
      "text/plain": [
       "array([0.        , 0.        , 0.        , 0.        , 0.        ,\n",
       "       0.        , 0.        , 0.        , 0.        , 0.        ,\n",
       "       0.        , 0.        , 0.        , 0.        , 0.        ,\n",
       "       0.        , 0.        , 0.        , 0.        , 0.        ,\n",
       "       0.        , 0.        , 0.        , 0.        , 0.        ,\n",
       "       0.        , 0.        , 0.        , 0.        , 0.        ,\n",
       "       0.        , 0.        , 0.        , 0.        , 0.        ,\n",
       "       0.        , 0.        , 0.        , 0.        , 0.        ,\n",
       "       0.        , 0.        , 0.        , 0.        , 0.        ,\n",
       "       0.        , 0.        , 0.        , 0.        , 0.        ,\n",
       "       0.        , 0.        , 0.        , 0.        , 0.        ,\n",
       "       0.        , 0.        , 0.        , 0.        , 0.        ,\n",
       "       0.        , 0.        , 0.        , 0.        , 0.        ,\n",
       "       0.        , 0.        , 0.        , 0.        , 0.        ,\n",
       "       0.        , 0.        , 0.        , 0.        , 0.        ,\n",
       "       0.        , 0.        , 0.        , 0.        , 0.        ,\n",
       "       0.        , 0.        , 0.        , 0.        , 0.        ,\n",
       "       0.        , 0.        , 0.        , 0.        , 0.        ,\n",
       "       0.        , 0.        , 0.        , 0.        , 0.        ,\n",
       "       0.        , 0.        , 0.        , 0.        , 0.        ,\n",
       "       0.        , 0.        , 0.        , 0.        , 0.        ,\n",
       "       0.        , 0.        , 0.        , 0.        , 0.        ,\n",
       "       0.        , 0.        , 0.        , 0.        , 0.        ,\n",
       "       0.        , 0.        , 0.        , 0.        , 0.        ,\n",
       "       0.        , 0.        , 0.        , 0.        , 0.        ,\n",
       "       0.        , 0.        , 0.        , 0.        , 0.        ,\n",
       "       0.        , 0.        , 0.        , 0.        , 0.        ,\n",
       "       0.        , 0.        , 0.        , 0.        , 0.        ,\n",
       "       0.        , 0.        , 0.        , 0.        , 0.        ,\n",
       "       0.        , 0.        , 0.        , 0.        , 0.        ,\n",
       "       0.        , 0.        , 0.01176471, 0.07058824, 0.07058824,\n",
       "       0.07058824, 0.49411765, 0.53333336, 0.6862745 , 0.10196079,\n",
       "       0.6509804 , 1.        , 0.96862745, 0.49803922, 0.        ,\n",
       "       0.        , 0.        , 0.        , 0.        , 0.        ,\n",
       "       0.        , 0.        , 0.        , 0.        , 0.        ,\n",
       "       0.        , 0.11764706, 0.14117648, 0.36862746, 0.6039216 ,\n",
       "       0.6666667 , 0.99215686, 0.99215686, 0.99215686, 0.99215686,\n",
       "       0.99215686, 0.88235295, 0.6745098 , 0.99215686, 0.9490196 ,\n",
       "       0.7647059 , 0.2509804 , 0.        , 0.        , 0.        ,\n",
       "       0.        , 0.        , 0.        , 0.        , 0.        ,\n",
       "       0.        , 0.        , 0.        , 0.19215687, 0.93333334,\n",
       "       0.99215686, 0.99215686, 0.99215686, 0.99215686, 0.99215686,\n",
       "       0.99215686, 0.99215686, 0.99215686, 0.9843137 , 0.3647059 ,\n",
       "       0.32156864, 0.32156864, 0.21960784, 0.15294118, 0.        ,\n",
       "       0.        , 0.        , 0.        , 0.        , 0.        ,\n",
       "       0.        , 0.        , 0.        , 0.        , 0.        ,\n",
       "       0.        , 0.07058824, 0.85882354, 0.99215686, 0.99215686,\n",
       "       0.99215686, 0.99215686, 0.99215686, 0.7764706 , 0.7137255 ,\n",
       "       0.96862745, 0.94509804, 0.        , 0.        , 0.        ,\n",
       "       0.        , 0.        , 0.        , 0.        , 0.        ,\n",
       "       0.        , 0.        , 0.        , 0.        , 0.        ,\n",
       "       0.        , 0.        , 0.        , 0.        , 0.        ,\n",
       "       0.3137255 , 0.6117647 , 0.41960785, 0.99215686, 0.99215686,\n",
       "       0.8039216 , 0.04313726, 0.        , 0.16862746, 0.6039216 ,\n",
       "       0.        , 0.        , 0.        , 0.        , 0.        ,\n",
       "       0.        , 0.        , 0.        , 0.        , 0.        ,\n",
       "       0.        , 0.        , 0.        , 0.        , 0.        ,\n",
       "       0.        , 0.        , 0.        , 0.        , 0.05490196,\n",
       "       0.00392157, 0.6039216 , 0.99215686, 0.3529412 , 0.        ,\n",
       "       0.        , 0.        , 0.        , 0.        , 0.        ,\n",
       "       0.        , 0.        , 0.        , 0.        , 0.        ,\n",
       "       0.        , 0.        , 0.        , 0.        , 0.        ,\n",
       "       0.        , 0.        , 0.        , 0.        , 0.        ,\n",
       "       0.        , 0.        , 0.        , 0.        , 0.54509807,\n",
       "       0.99215686, 0.74509805, 0.00784314, 0.        , 0.        ,\n",
       "       0.        , 0.        , 0.        , 0.        , 0.        ,\n",
       "       0.        , 0.        , 0.        , 0.        , 0.        ,\n",
       "       0.        , 0.        , 0.        , 0.        , 0.        ,\n",
       "       0.        , 0.        , 0.        , 0.        , 0.        ,\n",
       "       0.        , 0.        , 0.04313726, 0.74509805, 0.99215686,\n",
       "       0.27450982, 0.        , 0.        , 0.        , 0.        ,\n",
       "       0.        , 0.        , 0.        , 0.        , 0.        ,\n",
       "       0.        , 0.        , 0.        , 0.        , 0.        ,\n",
       "       0.        , 0.        , 0.        , 0.        , 0.        ,\n",
       "       0.        , 0.        , 0.        , 0.        , 0.        ,\n",
       "       0.        , 0.13725491, 0.94509804, 0.88235295, 0.627451  ,\n",
       "       0.42352942, 0.00392157, 0.        , 0.        , 0.        ,\n",
       "       0.        , 0.        , 0.        , 0.        , 0.        ,\n",
       "       0.        , 0.        , 0.        , 0.        , 0.        ,\n",
       "       0.        , 0.        , 0.        , 0.        , 0.        ,\n",
       "       0.        , 0.        , 0.        , 0.        , 0.        ,\n",
       "       0.31764707, 0.9411765 , 0.99215686, 0.99215686, 0.46666667,\n",
       "       0.09803922, 0.        , 0.        , 0.        , 0.        ,\n",
       "       0.        , 0.        , 0.        , 0.        , 0.        ,\n",
       "       0.        , 0.        , 0.        , 0.        , 0.        ,\n",
       "       0.        , 0.        , 0.        , 0.        , 0.        ,\n",
       "       0.        , 0.        , 0.        , 0.        , 0.1764706 ,\n",
       "       0.7294118 , 0.99215686, 0.99215686, 0.5882353 , 0.10588235,\n",
       "       0.        , 0.        , 0.        , 0.        , 0.        ,\n",
       "       0.        , 0.        , 0.        , 0.        , 0.        ,\n",
       "       0.        , 0.        , 0.        , 0.        , 0.        ,\n",
       "       0.        , 0.        , 0.        , 0.        , 0.        ,\n",
       "       0.        , 0.        , 0.        , 0.0627451 , 0.3647059 ,\n",
       "       0.9882353 , 0.99215686, 0.73333335, 0.        , 0.        ,\n",
       "       0.        , 0.        , 0.        , 0.        , 0.        ,\n",
       "       0.        , 0.        , 0.        , 0.        , 0.        ,\n",
       "       0.        , 0.        , 0.        , 0.        , 0.        ,\n",
       "       0.        , 0.        , 0.        , 0.        , 0.        ,\n",
       "       0.        , 0.        , 0.        , 0.9764706 , 0.99215686,\n",
       "       0.9764706 , 0.2509804 , 0.        , 0.        , 0.        ,\n",
       "       0.        , 0.        , 0.        , 0.        , 0.        ,\n",
       "       0.        , 0.        , 0.        , 0.        , 0.        ,\n",
       "       0.        , 0.        , 0.        , 0.        , 0.        ,\n",
       "       0.        , 0.        , 0.        , 0.18039216, 0.50980395,\n",
       "       0.7176471 , 0.99215686, 0.99215686, 0.8117647 , 0.00784314,\n",
       "       0.        , 0.        , 0.        , 0.        , 0.        ,\n",
       "       0.        , 0.        , 0.        , 0.        , 0.        ,\n",
       "       0.        , 0.        , 0.        , 0.        , 0.        ,\n",
       "       0.        , 0.        , 0.        , 0.        , 0.15294118,\n",
       "       0.5803922 , 0.8980392 , 0.99215686, 0.99215686, 0.99215686,\n",
       "       0.98039216, 0.7137255 , 0.        , 0.        , 0.        ,\n",
       "       0.        , 0.        , 0.        , 0.        , 0.        ,\n",
       "       0.        , 0.        , 0.        , 0.        , 0.        ,\n",
       "       0.        , 0.        , 0.        , 0.        , 0.        ,\n",
       "       0.09411765, 0.44705883, 0.8666667 , 0.99215686, 0.99215686,\n",
       "       0.99215686, 0.99215686, 0.7882353 , 0.30588236, 0.        ,\n",
       "       0.        , 0.        , 0.        , 0.        , 0.        ,\n",
       "       0.        , 0.        , 0.        , 0.        , 0.        ,\n",
       "       0.        , 0.        , 0.        , 0.        , 0.        ,\n",
       "       0.        , 0.09019608, 0.25882354, 0.8352941 , 0.99215686,\n",
       "       0.99215686, 0.99215686, 0.99215686, 0.7764706 , 0.31764707,\n",
       "       0.00784314, 0.        , 0.        , 0.        , 0.        ,\n",
       "       0.        , 0.        , 0.        , 0.        , 0.        ,\n",
       "       0.        , 0.        , 0.        , 0.        , 0.        ,\n",
       "       0.        , 0.        , 0.07058824, 0.67058825, 0.85882354,\n",
       "       0.99215686, 0.99215686, 0.99215686, 0.99215686, 0.7647059 ,\n",
       "       0.3137255 , 0.03529412, 0.        , 0.        , 0.        ,\n",
       "       0.        , 0.        , 0.        , 0.        , 0.        ,\n",
       "       0.        , 0.        , 0.        , 0.        , 0.        ,\n",
       "       0.        , 0.        , 0.        , 0.21568628, 0.6745098 ,\n",
       "       0.8862745 , 0.99215686, 0.99215686, 0.99215686, 0.99215686,\n",
       "       0.95686275, 0.52156866, 0.04313726, 0.        , 0.        ,\n",
       "       0.        , 0.        , 0.        , 0.        , 0.        ,\n",
       "       0.        , 0.        , 0.        , 0.        , 0.        ,\n",
       "       0.        , 0.        , 0.        , 0.        , 0.        ,\n",
       "       0.        , 0.53333336, 0.99215686, 0.99215686, 0.99215686,\n",
       "       0.83137256, 0.5294118 , 0.5176471 , 0.0627451 , 0.        ,\n",
       "       0.        , 0.        , 0.        , 0.        , 0.        ,\n",
       "       0.        , 0.        , 0.        , 0.        , 0.        ,\n",
       "       0.        , 0.        , 0.        , 0.        , 0.        ,\n",
       "       0.        , 0.        , 0.        , 0.        , 0.        ,\n",
       "       0.        , 0.        , 0.        , 0.        , 0.        ,\n",
       "       0.        , 0.        , 0.        , 0.        , 0.        ,\n",
       "       0.        , 0.        , 0.        , 0.        , 0.        ,\n",
       "       0.        , 0.        , 0.        , 0.        , 0.        ,\n",
       "       0.        , 0.        , 0.        , 0.        , 0.        ,\n",
       "       0.        , 0.        , 0.        , 0.        , 0.        ,\n",
       "       0.        , 0.        , 0.        , 0.        , 0.        ,\n",
       "       0.        , 0.        , 0.        , 0.        , 0.        ,\n",
       "       0.        , 0.        , 0.        , 0.        , 0.        ,\n",
       "       0.        , 0.        , 0.        , 0.        , 0.        ,\n",
       "       0.        , 0.        , 0.        , 0.        , 0.        ,\n",
       "       0.        , 0.        , 0.        , 0.        , 0.        ,\n",
       "       0.        , 0.        , 0.        , 0.        , 0.        ,\n",
       "       0.        , 0.        , 0.        , 0.        , 0.        ,\n",
       "       0.        , 0.        , 0.        , 0.        , 0.        ,\n",
       "       0.        , 0.        , 0.        , 0.        ], dtype=float32)"
      ]
     },
     "execution_count": 11,
     "metadata": {},
     "output_type": "execute_result"
    }
   ],
   "source": [
    "X_train[0]"
   ]
  },
  {
   "cell_type": "code",
   "execution_count": 12,
   "metadata": {},
   "outputs": [],
   "source": [
    "## we convert y into one-hot encoded\n",
    "\n",
    "n_classes = 10\n",
    "y_train = keras.utils.to_categorical(y_train, n_classes)\n",
    "y_test = keras.utils.to_categorical(y_test, n_classes)"
   ]
  },
  {
   "cell_type": "code",
   "execution_count": 13,
   "metadata": {},
   "outputs": [
    {
     "data": {
      "text/plain": [
       "array([0., 0., 0., 0., 0., 1., 0., 0., 0., 0.], dtype=float32)"
      ]
     },
     "execution_count": 13,
     "metadata": {},
     "output_type": "execute_result"
    }
   ],
   "source": [
    "y_train[0] # represents 5"
   ]
  },
  {
   "cell_type": "markdown",
   "metadata": {},
   "source": [
    "#### Design neural network architecture "
   ]
  },
  {
   "cell_type": "code",
   "execution_count": 14,
   "metadata": {},
   "outputs": [
    {
     "name": "stdout",
     "output_type": "stream",
     "text": [
      "WARNING:tensorflow:From /anaconda3/lib/python3.7/site-packages/tensorflow/python/framework/op_def_library.py:263: colocate_with (from tensorflow.python.framework.ops) is deprecated and will be removed in a future version.\n",
      "Instructions for updating:\n",
      "Colocations handled automatically by placer.\n"
     ]
    }
   ],
   "source": [
    "model = Sequential()\n",
    "model.add(Dense(64, activation='relu', input_shape=(784,))) #input_shape is 784 by 1\n",
    "model.add(Dense(64, activation='relu'))\n",
    "model.add(Dense(10, activation='softmax'))"
   ]
  },
  {
   "cell_type": "code",
   "execution_count": 15,
   "metadata": {},
   "outputs": [
    {
     "name": "stdout",
     "output_type": "stream",
     "text": [
      "_________________________________________________________________\n",
      "Layer (type)                 Output Shape              Param #   \n",
      "=================================================================\n",
      "dense_1 (Dense)              (None, 64)                50240     \n",
      "_________________________________________________________________\n",
      "dense_2 (Dense)              (None, 64)                4160      \n",
      "_________________________________________________________________\n",
      "dense_3 (Dense)              (None, 10)                650       \n",
      "=================================================================\n",
      "Total params: 55,050\n",
      "Trainable params: 55,050\n",
      "Non-trainable params: 0\n",
      "_________________________________________________________________\n"
     ]
    }
   ],
   "source": [
    "model.summary()"
   ]
  },
  {
   "cell_type": "code",
   "execution_count": 16,
   "metadata": {},
   "outputs": [],
   "source": [
    "# we cannot see the input layer above but we know that it has 784*1\n",
    "# how to get the parameters, 784(input neurons) * 64(hidden layer neurons) + 64 = 50240 (64 is the hidden layer neuron number)\n",
    "# 64 * 10 + 10 = 650\n",
    "# fully-connected"
   ]
  },
  {
   "cell_type": "markdown",
   "metadata": {},
   "source": [
    "#### Configure Model "
   ]
  },
  {
   "cell_type": "code",
   "execution_count": 17,
   "metadata": {},
   "outputs": [],
   "source": [
    "# model.compile(loss='mean_squared_error', optimizer=SGD(lr=0.01), metrics=['accuracy'])\n",
    "model.compile(loss='categorical_crossentropy', optimizer='adam', metrics=['accuracy'])"
   ]
  },
  {
   "cell_type": "markdown",
   "metadata": {},
   "source": [
    "#### Train"
   ]
  },
  {
   "cell_type": "code",
   "execution_count": 18,
   "metadata": {},
   "outputs": [],
   "source": [
    "# model.fit(X_train, y_train, batch_size=128, epochs=1, verbose=1, validation_data=(X_test, y_test))"
   ]
  },
  {
   "cell_type": "code",
   "execution_count": 19,
   "metadata": {},
   "outputs": [],
   "source": [
    "# as we can see this is almost random chance and we got barely 10% accuracy\n",
    "# lets increase epeochs to 20"
   ]
  },
  {
   "cell_type": "code",
   "execution_count": 20,
   "metadata": {},
   "outputs": [],
   "source": [
    "# model.fit(X_train, y_train, batch_size=128, epochs=20, verbose=1, validation_data=(X_test, y_test))"
   ]
  },
  {
   "cell_type": "code",
   "execution_count": 21,
   "metadata": {},
   "outputs": [],
   "source": [
    "# we get better results as we increase the epoch number\n",
    "# if you do not restar the kernel training goes on from the preboius one so you should restar kernel if you \n",
    "# change epoch"
   ]
  },
  {
   "cell_type": "code",
   "execution_count": 22,
   "metadata": {},
   "outputs": [
    {
     "name": "stdout",
     "output_type": "stream",
     "text": [
      "WARNING:tensorflow:From /anaconda3/lib/python3.7/site-packages/tensorflow/python/ops/math_ops.py:3066: to_int32 (from tensorflow.python.ops.math_ops) is deprecated and will be removed in a future version.\n",
      "Instructions for updating:\n",
      "Use tf.cast instead.\n",
      "Train on 60000 samples, validate on 10000 samples\n",
      "Epoch 1/200\n",
      "60000/60000 [==============================] - 1s 20us/step - loss: 0.3842 - acc: 0.8935 - val_loss: 0.1882 - val_acc: 0.9472\n",
      "Epoch 2/200\n",
      "60000/60000 [==============================] - 1s 16us/step - loss: 0.1590 - acc: 0.9534 - val_loss: 0.1348 - val_acc: 0.9598\n",
      "Epoch 3/200\n",
      "60000/60000 [==============================] - 1s 16us/step - loss: 0.1178 - acc: 0.9645 - val_loss: 0.1215 - val_acc: 0.9645\n",
      "Epoch 4/200\n",
      "60000/60000 [==============================] - 1s 15us/step - loss: 0.0954 - acc: 0.9722 - val_loss: 0.1089 - val_acc: 0.9680\n",
      "Epoch 5/200\n",
      "60000/60000 [==============================] - 1s 15us/step - loss: 0.0791 - acc: 0.9764 - val_loss: 0.1004 - val_acc: 0.9695\n",
      "Epoch 6/200\n",
      "60000/60000 [==============================] - 1s 16us/step - loss: 0.0662 - acc: 0.9804 - val_loss: 0.0928 - val_acc: 0.9709\n",
      "Epoch 7/200\n",
      "60000/60000 [==============================] - 1s 14us/step - loss: 0.0554 - acc: 0.9828 - val_loss: 0.0920 - val_acc: 0.9728\n",
      "Epoch 8/200\n",
      "60000/60000 [==============================] - 1s 14us/step - loss: 0.0500 - acc: 0.9848 - val_loss: 0.0861 - val_acc: 0.9752\n",
      "Epoch 9/200\n",
      "60000/60000 [==============================] - 1s 15us/step - loss: 0.0438 - acc: 0.9864 - val_loss: 0.0922 - val_acc: 0.9734\n",
      "Epoch 10/200\n",
      "60000/60000 [==============================] - 1s 15us/step - loss: 0.0378 - acc: 0.9881 - val_loss: 0.0883 - val_acc: 0.9747\n",
      "Epoch 11/200\n",
      "60000/60000 [==============================] - 1s 14us/step - loss: 0.0336 - acc: 0.9898 - val_loss: 0.0945 - val_acc: 0.9730\n",
      "Epoch 12/200\n",
      "60000/60000 [==============================] - 1s 14us/step - loss: 0.0285 - acc: 0.9912 - val_loss: 0.0963 - val_acc: 0.9736\n",
      "Epoch 13/200\n",
      "60000/60000 [==============================] - 1s 15us/step - loss: 0.0261 - acc: 0.9921 - val_loss: 0.0974 - val_acc: 0.9741\n",
      "Epoch 14/200\n",
      "60000/60000 [==============================] - 1s 15us/step - loss: 0.0233 - acc: 0.9927 - val_loss: 0.0955 - val_acc: 0.9752\n",
      "Epoch 15/200\n",
      "60000/60000 [==============================] - 1s 15us/step - loss: 0.0222 - acc: 0.9930 - val_loss: 0.0959 - val_acc: 0.9735\n",
      "Epoch 16/200\n",
      "60000/60000 [==============================] - 1s 15us/step - loss: 0.0179 - acc: 0.9948 - val_loss: 0.0907 - val_acc: 0.9762\n",
      "Epoch 17/200\n",
      "60000/60000 [==============================] - 1s 15us/step - loss: 0.0160 - acc: 0.9953 - val_loss: 0.1013 - val_acc: 0.9733\n",
      "Epoch 18/200\n",
      "60000/60000 [==============================] - 1s 15us/step - loss: 0.0158 - acc: 0.9949 - val_loss: 0.1018 - val_acc: 0.9743\n",
      "Epoch 19/200\n",
      "60000/60000 [==============================] - 1s 15us/step - loss: 0.0130 - acc: 0.9960 - val_loss: 0.1055 - val_acc: 0.9746\n",
      "Epoch 20/200\n",
      "60000/60000 [==============================] - 1s 15us/step - loss: 0.0154 - acc: 0.9950 - val_loss: 0.1028 - val_acc: 0.9745\n",
      "Epoch 21/200\n",
      "60000/60000 [==============================] - 1s 14us/step - loss: 0.0111 - acc: 0.9966 - val_loss: 0.1022 - val_acc: 0.9746\n",
      "Epoch 22/200\n",
      "60000/60000 [==============================] - 1s 14us/step - loss: 0.0093 - acc: 0.9973 - val_loss: 0.1070 - val_acc: 0.9748\n",
      "Epoch 23/200\n",
      "60000/60000 [==============================] - 1s 15us/step - loss: 0.0084 - acc: 0.9976 - val_loss: 0.1096 - val_acc: 0.9747\n",
      "Epoch 24/200\n",
      "60000/60000 [==============================] - 1s 15us/step - loss: 0.0096 - acc: 0.9971 - val_loss: 0.1094 - val_acc: 0.9765\n",
      "Epoch 25/200\n",
      "60000/60000 [==============================] - 1s 15us/step - loss: 0.0119 - acc: 0.9962 - val_loss: 0.1093 - val_acc: 0.9762\n",
      "Epoch 26/200\n",
      "60000/60000 [==============================] - 1s 14us/step - loss: 0.0079 - acc: 0.9974 - val_loss: 0.1120 - val_acc: 0.9752\n",
      "Epoch 27/200\n",
      "60000/60000 [==============================] - 1s 15us/step - loss: 0.0062 - acc: 0.9983 - val_loss: 0.1034 - val_acc: 0.9775\n",
      "Epoch 28/200\n",
      "60000/60000 [==============================] - 1s 14us/step - loss: 0.0086 - acc: 0.9971 - val_loss: 0.1124 - val_acc: 0.9770\n",
      "Epoch 29/200\n",
      "60000/60000 [==============================] - 1s 14us/step - loss: 0.0101 - acc: 0.9965 - val_loss: 0.1220 - val_acc: 0.9757\n",
      "Epoch 30/200\n",
      "60000/60000 [==============================] - 1s 14us/step - loss: 0.0053 - acc: 0.9984 - val_loss: 0.1280 - val_acc: 0.9744\n",
      "Epoch 31/200\n",
      "60000/60000 [==============================] - 1s 15us/step - loss: 0.0047 - acc: 0.9987 - val_loss: 0.1176 - val_acc: 0.9762\n",
      "Epoch 32/200\n",
      "60000/60000 [==============================] - 1s 15us/step - loss: 0.0099 - acc: 0.9968 - val_loss: 0.1216 - val_acc: 0.9761\n",
      "Epoch 33/200\n",
      "60000/60000 [==============================] - 1s 15us/step - loss: 0.0051 - acc: 0.9982 - val_loss: 0.1263 - val_acc: 0.9762\n",
      "Epoch 34/200\n",
      "60000/60000 [==============================] - 1s 15us/step - loss: 0.0052 - acc: 0.9986 - val_loss: 0.1174 - val_acc: 0.9764\n",
      "Epoch 35/200\n",
      "60000/60000 [==============================] - 1s 14us/step - loss: 0.0049 - acc: 0.9983 - val_loss: 0.1275 - val_acc: 0.9757\n",
      "Epoch 36/200\n",
      "60000/60000 [==============================] - 1s 14us/step - loss: 0.0098 - acc: 0.9968 - val_loss: 0.1248 - val_acc: 0.9760\n",
      "Epoch 37/200\n",
      "60000/60000 [==============================] - 1s 15us/step - loss: 0.0041 - acc: 0.9987 - val_loss: 0.1171 - val_acc: 0.9780\n",
      "Epoch 38/200\n",
      "60000/60000 [==============================] - 1s 15us/step - loss: 0.0014 - acc: 0.9997 - val_loss: 0.1235 - val_acc: 0.9766\n",
      "Epoch 39/200\n",
      "60000/60000 [==============================] - 1s 14us/step - loss: 8.9005e-04 - acc: 0.9999 - val_loss: 0.1144 - val_acc: 0.9804\n",
      "Epoch 40/200\n",
      "60000/60000 [==============================] - 1s 15us/step - loss: 3.0060e-04 - acc: 1.0000 - val_loss: 0.1195 - val_acc: 0.9800\n",
      "Epoch 41/200\n",
      "60000/60000 [==============================] - 1s 14us/step - loss: 2.3087e-04 - acc: 1.0000 - val_loss: 0.1181 - val_acc: 0.9801\n",
      "Epoch 42/200\n",
      "60000/60000 [==============================] - 1s 15us/step - loss: 8.8939e-04 - acc: 0.9999 - val_loss: 0.1706 - val_acc: 0.9713\n",
      "Epoch 43/200\n",
      "60000/60000 [==============================] - 1s 15us/step - loss: 0.0266 - acc: 0.9922 - val_loss: 0.1498 - val_acc: 0.9726\n",
      "Epoch 44/200\n",
      "60000/60000 [==============================] - 1s 14us/step - loss: 0.0067 - acc: 0.9978 - val_loss: 0.1328 - val_acc: 0.9763\n",
      "Epoch 45/200\n",
      "60000/60000 [==============================] - 1s 15us/step - loss: 0.0023 - acc: 0.9993 - val_loss: 0.1362 - val_acc: 0.9764\n",
      "Epoch 46/200\n",
      "60000/60000 [==============================] - 1s 14us/step - loss: 0.0016 - acc: 0.9996 - val_loss: 0.1261 - val_acc: 0.9779\n",
      "Epoch 47/200\n",
      "60000/60000 [==============================] - 1s 15us/step - loss: 3.6764e-04 - acc: 1.0000 - val_loss: 0.1246 - val_acc: 0.9784\n",
      "Epoch 48/200\n",
      "60000/60000 [==============================] - 1s 15us/step - loss: 1.9964e-04 - acc: 1.0000 - val_loss: 0.1245 - val_acc: 0.9788\n",
      "Epoch 49/200\n",
      "60000/60000 [==============================] - 1s 15us/step - loss: 1.4248e-04 - acc: 1.0000 - val_loss: 0.1244 - val_acc: 0.9790\n",
      "Epoch 50/200\n",
      "60000/60000 [==============================] - 1s 15us/step - loss: 1.1997e-04 - acc: 1.0000 - val_loss: 0.1268 - val_acc: 0.9786\n",
      "Epoch 51/200\n",
      "60000/60000 [==============================] - 1s 14us/step - loss: 1.0785e-04 - acc: 1.0000 - val_loss: 0.1280 - val_acc: 0.9783\n",
      "Epoch 52/200\n",
      "60000/60000 [==============================] - 1s 15us/step - loss: 9.9666e-05 - acc: 1.0000 - val_loss: 0.1293 - val_acc: 0.9791\n",
      "Epoch 53/200\n",
      "60000/60000 [==============================] - 1s 15us/step - loss: 8.5597e-05 - acc: 1.0000 - val_loss: 0.1304 - val_acc: 0.9789\n",
      "Epoch 54/200\n",
      "60000/60000 [==============================] - 1s 15us/step - loss: 0.0135 - acc: 0.9970 - val_loss: 0.2157 - val_acc: 0.9632\n",
      "Epoch 55/200\n",
      "60000/60000 [==============================] - 1s 15us/step - loss: 0.0217 - acc: 0.9934 - val_loss: 0.1523 - val_acc: 0.9743\n",
      "Epoch 56/200\n",
      "60000/60000 [==============================] - 1s 15us/step - loss: 0.0061 - acc: 0.9978 - val_loss: 0.1427 - val_acc: 0.9770\n",
      "Epoch 57/200\n"
     ]
    },
    {
     "name": "stdout",
     "output_type": "stream",
     "text": [
      "60000/60000 [==============================] - 1s 14us/step - loss: 0.0041 - acc: 0.9985 - val_loss: 0.1354 - val_acc: 0.9767\n",
      "Epoch 58/200\n",
      "60000/60000 [==============================] - 1s 14us/step - loss: 0.0019 - acc: 0.9994 - val_loss: 0.1314 - val_acc: 0.9772\n",
      "Epoch 59/200\n",
      "60000/60000 [==============================] - 1s 15us/step - loss: 0.0027 - acc: 0.9991 - val_loss: 0.1327 - val_acc: 0.9783\n",
      "Epoch 60/200\n",
      "60000/60000 [==============================] - 1s 15us/step - loss: 0.0044 - acc: 0.9985 - val_loss: 0.1622 - val_acc: 0.9731\n",
      "Epoch 61/200\n",
      "60000/60000 [==============================] - 1s 15us/step - loss: 0.0056 - acc: 0.9983 - val_loss: 0.1522 - val_acc: 0.9760\n",
      "Epoch 62/200\n",
      "60000/60000 [==============================] - 1s 15us/step - loss: 0.0058 - acc: 0.9980 - val_loss: 0.1381 - val_acc: 0.9775\n",
      "Epoch 63/200\n",
      "60000/60000 [==============================] - 1s 15us/step - loss: 0.0054 - acc: 0.9981 - val_loss: 0.1308 - val_acc: 0.9777\n",
      "Epoch 64/200\n",
      "60000/60000 [==============================] - 1s 14us/step - loss: 0.0033 - acc: 0.9987 - val_loss: 0.1341 - val_acc: 0.9782\n",
      "Epoch 65/200\n",
      "60000/60000 [==============================] - 1s 14us/step - loss: 0.0034 - acc: 0.9989 - val_loss: 0.1440 - val_acc: 0.9781\n",
      "Epoch 66/200\n",
      "60000/60000 [==============================] - 1s 14us/step - loss: 0.0029 - acc: 0.9992 - val_loss: 0.1604 - val_acc: 0.9744\n",
      "Epoch 67/200\n",
      "60000/60000 [==============================] - 1s 15us/step - loss: 0.0066 - acc: 0.9978 - val_loss: 0.1390 - val_acc: 0.9784\n",
      "Epoch 68/200\n",
      "60000/60000 [==============================] - 1s 14us/step - loss: 0.0043 - acc: 0.9986 - val_loss: 0.1604 - val_acc: 0.9762\n",
      "Epoch 69/200\n",
      "60000/60000 [==============================] - 1s 14us/step - loss: 0.0014 - acc: 0.9996 - val_loss: 0.1343 - val_acc: 0.9798\n",
      "Epoch 70/200\n",
      "60000/60000 [==============================] - 1s 15us/step - loss: 1.3010e-04 - acc: 1.0000 - val_loss: 0.1364 - val_acc: 0.9790\n",
      "Epoch 71/200\n",
      "60000/60000 [==============================] - 1s 15us/step - loss: 7.8813e-05 - acc: 1.0000 - val_loss: 0.1381 - val_acc: 0.9792\n",
      "Epoch 72/200\n",
      "60000/60000 [==============================] - 1s 15us/step - loss: 5.7632e-05 - acc: 1.0000 - val_loss: 0.1386 - val_acc: 0.9791\n",
      "Epoch 73/200\n",
      "60000/60000 [==============================] - 1s 15us/step - loss: 4.8691e-05 - acc: 1.0000 - val_loss: 0.1393 - val_acc: 0.9790\n",
      "Epoch 74/200\n",
      "60000/60000 [==============================] - 1s 15us/step - loss: 4.2357e-05 - acc: 1.0000 - val_loss: 0.1396 - val_acc: 0.9791\n",
      "Epoch 75/200\n",
      "60000/60000 [==============================] - 1s 16us/step - loss: 3.7371e-05 - acc: 1.0000 - val_loss: 0.1399 - val_acc: 0.9793\n",
      "Epoch 76/200\n",
      "60000/60000 [==============================] - 1s 17us/step - loss: 3.1936e-05 - acc: 1.0000 - val_loss: 0.1412 - val_acc: 0.9789\n",
      "Epoch 77/200\n",
      "60000/60000 [==============================] - 1s 15us/step - loss: 2.8750e-05 - acc: 1.0000 - val_loss: 0.1411 - val_acc: 0.9793\n",
      "Epoch 78/200\n",
      "60000/60000 [==============================] - 1s 16us/step - loss: 2.5219e-05 - acc: 1.0000 - val_loss: 0.1407 - val_acc: 0.9791\n",
      "Epoch 79/200\n",
      "60000/60000 [==============================] - 1s 16us/step - loss: 2.0928e-05 - acc: 1.0000 - val_loss: 0.1414 - val_acc: 0.9797\n",
      "Epoch 80/200\n",
      "60000/60000 [==============================] - 1s 15us/step - loss: 1.8852e-05 - acc: 1.0000 - val_loss: 0.1420 - val_acc: 0.9796\n",
      "Epoch 81/200\n",
      "60000/60000 [==============================] - 1s 15us/step - loss: 1.5480e-05 - acc: 1.0000 - val_loss: 0.1431 - val_acc: 0.9795\n",
      "Epoch 82/200\n",
      "60000/60000 [==============================] - 1s 16us/step - loss: 0.0108 - acc: 0.9980 - val_loss: 0.2804 - val_acc: 0.9614\n",
      "Epoch 83/200\n",
      "60000/60000 [==============================] - 1s 15us/step - loss: 0.0212 - acc: 0.9941 - val_loss: 0.1629 - val_acc: 0.9743\n",
      "Epoch 84/200\n",
      "60000/60000 [==============================] - 1s 15us/step - loss: 0.0044 - acc: 0.9987 - val_loss: 0.1664 - val_acc: 0.9759\n",
      "Epoch 85/200\n",
      "60000/60000 [==============================] - 1s 16us/step - loss: 0.0018 - acc: 0.9994 - val_loss: 0.1391 - val_acc: 0.9774\n",
      "Epoch 86/200\n",
      "60000/60000 [==============================] - 1s 16us/step - loss: 1.5754e-04 - acc: 1.0000 - val_loss: 0.1370 - val_acc: 0.9792\n",
      "Epoch 87/200\n",
      "60000/60000 [==============================] - 1s 16us/step - loss: 6.6966e-05 - acc: 1.0000 - val_loss: 0.1363 - val_acc: 0.9793\n",
      "Epoch 88/200\n",
      "60000/60000 [==============================] - 1s 17us/step - loss: 4.9391e-05 - acc: 1.0000 - val_loss: 0.1367 - val_acc: 0.9795\n",
      "Epoch 89/200\n",
      "60000/60000 [==============================] - 1s 17us/step - loss: 4.1567e-05 - acc: 1.0000 - val_loss: 0.1368 - val_acc: 0.9793\n",
      "Epoch 90/200\n",
      "60000/60000 [==============================] - 1s 16us/step - loss: 3.5924e-05 - acc: 1.0000 - val_loss: 0.1371 - val_acc: 0.9800\n",
      "Epoch 91/200\n",
      "60000/60000 [==============================] - 1s 19us/step - loss: 3.1198e-05 - acc: 1.0000 - val_loss: 0.1375 - val_acc: 0.9797\n",
      "Epoch 92/200\n",
      "60000/60000 [==============================] - 1s 17us/step - loss: 2.7273e-05 - acc: 1.0000 - val_loss: 0.1383 - val_acc: 0.9798\n",
      "Epoch 93/200\n",
      "60000/60000 [==============================] - 1s 16us/step - loss: 2.3721e-05 - acc: 1.0000 - val_loss: 0.1385 - val_acc: 0.9795\n",
      "Epoch 94/200\n",
      "60000/60000 [==============================] - 1s 16us/step - loss: 2.0664e-05 - acc: 1.0000 - val_loss: 0.1390 - val_acc: 0.9796\n",
      "Epoch 95/200\n",
      "60000/60000 [==============================] - 1s 16us/step - loss: 1.8310e-05 - acc: 1.0000 - val_loss: 0.1396 - val_acc: 0.9799\n",
      "Epoch 96/200\n",
      "60000/60000 [==============================] - 1s 16us/step - loss: 1.5917e-05 - acc: 1.0000 - val_loss: 0.1404 - val_acc: 0.9795\n",
      "Epoch 97/200\n",
      "60000/60000 [==============================] - 1s 16us/step - loss: 1.4075e-05 - acc: 1.0000 - val_loss: 0.1418 - val_acc: 0.9800\n",
      "Epoch 98/200\n",
      "60000/60000 [==============================] - 1s 17us/step - loss: 1.2379e-05 - acc: 1.0000 - val_loss: 0.1434 - val_acc: 0.9793\n",
      "Epoch 99/200\n",
      "60000/60000 [==============================] - 1s 17us/step - loss: 1.0459e-05 - acc: 1.0000 - val_loss: 0.1440 - val_acc: 0.9790\n",
      "Epoch 100/200\n",
      "60000/60000 [==============================] - 1s 16us/step - loss: 8.8695e-06 - acc: 1.0000 - val_loss: 0.1452 - val_acc: 0.9793\n",
      "Epoch 101/200\n",
      "60000/60000 [==============================] - 1s 15us/step - loss: 7.7888e-06 - acc: 1.0000 - val_loss: 0.1455 - val_acc: 0.9790\n",
      "Epoch 102/200\n",
      "60000/60000 [==============================] - 1s 15us/step - loss: 7.0122e-06 - acc: 1.0000 - val_loss: 0.1470 - val_acc: 0.9792\n",
      "Epoch 103/200\n",
      "60000/60000 [==============================] - 1s 16us/step - loss: 5.9066e-06 - acc: 1.0000 - val_loss: 0.1463 - val_acc: 0.9794\n",
      "Epoch 104/200\n",
      "60000/60000 [==============================] - 1s 16us/step - loss: 0.0290 - acc: 0.9932 - val_loss: 0.1741 - val_acc: 0.9742\n",
      "Epoch 105/200\n",
      "60000/60000 [==============================] - 1s 16us/step - loss: 0.0100 - acc: 0.9970 - val_loss: 0.1658 - val_acc: 0.9768\n",
      "Epoch 106/200\n",
      "60000/60000 [==============================] - 1s 15us/step - loss: 0.0037 - acc: 0.9987 - val_loss: 0.1492 - val_acc: 0.9773\n",
      "Epoch 107/200\n",
      "60000/60000 [==============================] - 1s 16us/step - loss: 8.6699e-04 - acc: 0.9998 - val_loss: 0.1535 - val_acc: 0.9777\n",
      "Epoch 108/200\n",
      "60000/60000 [==============================] - 1s 16us/step - loss: 1.5982e-04 - acc: 1.0000 - val_loss: 0.1483 - val_acc: 0.9785\n",
      "Epoch 109/200\n",
      "60000/60000 [==============================] - 1s 15us/step - loss: 5.1091e-05 - acc: 1.0000 - val_loss: 0.1471 - val_acc: 0.9784\n",
      "Epoch 110/200\n",
      "60000/60000 [==============================] - 1s 15us/step - loss: 3.7360e-05 - acc: 1.0000 - val_loss: 0.1464 - val_acc: 0.9787\n",
      "Epoch 111/200\n",
      "60000/60000 [==============================] - 1s 15us/step - loss: 3.1672e-05 - acc: 1.0000 - val_loss: 0.1469 - val_acc: 0.9786\n",
      "Epoch 112/200\n",
      "60000/60000 [==============================] - 1s 16us/step - loss: 2.7025e-05 - acc: 1.0000 - val_loss: 0.1471 - val_acc: 0.9786\n",
      "Epoch 113/200\n",
      "60000/60000 [==============================] - 1s 16us/step - loss: 2.3573e-05 - acc: 1.0000 - val_loss: 0.1468 - val_acc: 0.9785\n",
      "Epoch 114/200\n",
      "60000/60000 [==============================] - 1s 15us/step - loss: 2.0449e-05 - acc: 1.0000 - val_loss: 0.1473 - val_acc: 0.9785\n"
     ]
    },
    {
     "name": "stdout",
     "output_type": "stream",
     "text": [
      "Epoch 115/200\n",
      "60000/60000 [==============================] - 1s 15us/step - loss: 1.7719e-05 - acc: 1.0000 - val_loss: 0.1473 - val_acc: 0.9787\n",
      "Epoch 116/200\n",
      "60000/60000 [==============================] - 1s 15us/step - loss: 1.5459e-05 - acc: 1.0000 - val_loss: 0.1477 - val_acc: 0.9789\n",
      "Epoch 117/200\n",
      "60000/60000 [==============================] - 1s 15us/step - loss: 1.3518e-05 - acc: 1.0000 - val_loss: 0.1482 - val_acc: 0.9789\n",
      "Epoch 118/200\n",
      "60000/60000 [==============================] - 1s 15us/step - loss: 1.1638e-05 - acc: 1.0000 - val_loss: 0.1486 - val_acc: 0.9790\n",
      "Epoch 119/200\n",
      "60000/60000 [==============================] - 1s 15us/step - loss: 1.0005e-05 - acc: 1.0000 - val_loss: 0.1495 - val_acc: 0.9792\n",
      "Epoch 120/200\n",
      "60000/60000 [==============================] - 1s 15us/step - loss: 8.7159e-06 - acc: 1.0000 - val_loss: 0.1496 - val_acc: 0.9793\n",
      "Epoch 121/200\n",
      "60000/60000 [==============================] - 1s 15us/step - loss: 7.6966e-06 - acc: 1.0000 - val_loss: 0.1503 - val_acc: 0.9792\n",
      "Epoch 122/200\n",
      "60000/60000 [==============================] - 1s 15us/step - loss: 6.4599e-06 - acc: 1.0000 - val_loss: 0.1508 - val_acc: 0.9791\n",
      "Epoch 123/200\n",
      "60000/60000 [==============================] - 1s 15us/step - loss: 5.6235e-06 - acc: 1.0000 - val_loss: 0.1519 - val_acc: 0.9795\n",
      "Epoch 124/200\n",
      "60000/60000 [==============================] - 1s 15us/step - loss: 4.6880e-06 - acc: 1.0000 - val_loss: 0.1520 - val_acc: 0.9793\n",
      "Epoch 125/200\n",
      "60000/60000 [==============================] - 1s 15us/step - loss: 4.1217e-06 - acc: 1.0000 - val_loss: 0.1528 - val_acc: 0.9793\n",
      "Epoch 126/200\n",
      "60000/60000 [==============================] - 1s 15us/step - loss: 3.4838e-06 - acc: 1.0000 - val_loss: 0.1546 - val_acc: 0.9791\n",
      "Epoch 127/200\n",
      "60000/60000 [==============================] - 1s 15us/step - loss: 2.9462e-06 - acc: 1.0000 - val_loss: 0.1545 - val_acc: 0.9791\n",
      "Epoch 128/200\n",
      "60000/60000 [==============================] - 1s 15us/step - loss: 0.0044 - acc: 0.9993 - val_loss: 0.3660 - val_acc: 0.9524\n",
      "Epoch 129/200\n",
      "60000/60000 [==============================] - 1s 15us/step - loss: 0.0286 - acc: 0.9927 - val_loss: 0.1694 - val_acc: 0.9774\n",
      "Epoch 130/200\n",
      "60000/60000 [==============================] - 1s 15us/step - loss: 0.0033 - acc: 0.9990 - val_loss: 0.1690 - val_acc: 0.9779\n",
      "Epoch 131/200\n",
      "60000/60000 [==============================] - 1s 15us/step - loss: 0.0025 - acc: 0.9992 - val_loss: 0.1600 - val_acc: 0.9788\n",
      "Epoch 132/200\n",
      "60000/60000 [==============================] - 1s 17us/step - loss: 0.0029 - acc: 0.9990 - val_loss: 0.1622 - val_acc: 0.9774\n",
      "Epoch 133/200\n",
      "60000/60000 [==============================] - 1s 16us/step - loss: 6.8577e-04 - acc: 0.9998 - val_loss: 0.1621 - val_acc: 0.9784\n",
      "Epoch 134/200\n",
      "60000/60000 [==============================] - 1s 18us/step - loss: 0.0024 - acc: 0.9994 - val_loss: 0.1945 - val_acc: 0.9740\n",
      "Epoch 135/200\n",
      "60000/60000 [==============================] - 1s 17us/step - loss: 0.0094 - acc: 0.9972 - val_loss: 0.1761 - val_acc: 0.9766\n",
      "Epoch 136/200\n",
      "60000/60000 [==============================] - 1s 17us/step - loss: 0.0017 - acc: 0.9994 - val_loss: 0.1598 - val_acc: 0.9781\n",
      "Epoch 137/200\n",
      "60000/60000 [==============================] - 1s 15us/step - loss: 0.0012 - acc: 0.9996 - val_loss: 0.1733 - val_acc: 0.9760\n",
      "Epoch 138/200\n",
      "60000/60000 [==============================] - 1s 15us/step - loss: 0.0079 - acc: 0.9977 - val_loss: 0.1765 - val_acc: 0.9763\n",
      "Epoch 139/200\n",
      "60000/60000 [==============================] - 1s 15us/step - loss: 0.0061 - acc: 0.9981 - val_loss: 0.1825 - val_acc: 0.9751\n",
      "Epoch 140/200\n",
      "60000/60000 [==============================] - 1s 15us/step - loss: 0.0026 - acc: 0.9992 - val_loss: 0.1685 - val_acc: 0.9786\n",
      "Epoch 141/200\n",
      "60000/60000 [==============================] - 1s 16us/step - loss: 0.0020 - acc: 0.9995 - val_loss: 0.1882 - val_acc: 0.9751\n",
      "Epoch 142/200\n",
      "60000/60000 [==============================] - 1s 15us/step - loss: 0.0045 - acc: 0.9986 - val_loss: 0.1773 - val_acc: 0.9787\n",
      "Epoch 143/200\n",
      "60000/60000 [==============================] - 1s 16us/step - loss: 0.0028 - acc: 0.9990 - val_loss: 0.1646 - val_acc: 0.9788\n",
      "Epoch 144/200\n",
      "60000/60000 [==============================] - 1s 16us/step - loss: 0.0025 - acc: 0.9991 - val_loss: 0.1695 - val_acc: 0.9769\n",
      "Epoch 145/200\n",
      "60000/60000 [==============================] - 1s 15us/step - loss: 0.0016 - acc: 0.9995 - val_loss: 0.1737 - val_acc: 0.9770\n",
      "Epoch 146/200\n",
      "60000/60000 [==============================] - 1s 15us/step - loss: 0.0026 - acc: 0.9991 - val_loss: 0.1681 - val_acc: 0.9776\n",
      "Epoch 147/200\n",
      "60000/60000 [==============================] - 1s 15us/step - loss: 0.0043 - acc: 0.9988 - val_loss: 0.2092 - val_acc: 0.9732\n",
      "Epoch 148/200\n",
      "60000/60000 [==============================] - 1s 15us/step - loss: 0.0040 - acc: 0.9987 - val_loss: 0.1830 - val_acc: 0.9751\n",
      "Epoch 149/200\n",
      "60000/60000 [==============================] - 1s 15us/step - loss: 0.0062 - acc: 0.9981 - val_loss: 0.1666 - val_acc: 0.9786\n",
      "Epoch 150/200\n",
      "60000/60000 [==============================] - 1s 16us/step - loss: 0.0014 - acc: 0.9996 - val_loss: 0.1797 - val_acc: 0.9766\n",
      "Epoch 151/200\n",
      "60000/60000 [==============================] - 1s 16us/step - loss: 0.0031 - acc: 0.9990 - val_loss: 0.1792 - val_acc: 0.9779\n",
      "Epoch 152/200\n",
      "60000/60000 [==============================] - 1s 16us/step - loss: 0.0040 - acc: 0.9987 - val_loss: 0.1874 - val_acc: 0.9763\n",
      "Epoch 153/200\n",
      "60000/60000 [==============================] - 1s 16us/step - loss: 0.0027 - acc: 0.9991 - val_loss: 0.1720 - val_acc: 0.9785\n",
      "Epoch 154/200\n",
      "60000/60000 [==============================] - 1s 16us/step - loss: 0.0018 - acc: 0.9996 - val_loss: 0.1762 - val_acc: 0.9775\n",
      "Epoch 155/200\n",
      "60000/60000 [==============================] - 1s 16us/step - loss: 0.0026 - acc: 0.9992 - val_loss: 0.1874 - val_acc: 0.9757\n",
      "Epoch 156/200\n",
      "60000/60000 [==============================] - 1s 15us/step - loss: 0.0056 - acc: 0.9984 - val_loss: 0.1691 - val_acc: 0.9789\n",
      "Epoch 157/200\n",
      "60000/60000 [==============================] - 1s 15us/step - loss: 0.0013 - acc: 0.9996 - val_loss: 0.1964 - val_acc: 0.9760\n",
      "Epoch 158/200\n",
      "60000/60000 [==============================] - 1s 16us/step - loss: 0.0073 - acc: 0.9980 - val_loss: 0.1770 - val_acc: 0.9789\n",
      "Epoch 159/200\n",
      "60000/60000 [==============================] - 1s 16us/step - loss: 0.0026 - acc: 0.9991 - val_loss: 0.1715 - val_acc: 0.9796\n",
      "Epoch 160/200\n",
      "60000/60000 [==============================] - 1s 15us/step - loss: 0.0013 - acc: 0.9996 - val_loss: 0.1554 - val_acc: 0.9789\n",
      "Epoch 161/200\n",
      "60000/60000 [==============================] - 1s 15us/step - loss: 0.0034 - acc: 0.9989 - val_loss: 0.1692 - val_acc: 0.9787\n",
      "Epoch 162/200\n",
      "60000/60000 [==============================] - 1s 15us/step - loss: 0.0018 - acc: 0.9996 - val_loss: 0.1590 - val_acc: 0.9796\n",
      "Epoch 163/200\n",
      "60000/60000 [==============================] - 1s 15us/step - loss: 1.4066e-04 - acc: 1.0000 - val_loss: 0.1587 - val_acc: 0.9795\n",
      "Epoch 164/200\n",
      "60000/60000 [==============================] - 1s 15us/step - loss: 1.8152e-05 - acc: 1.0000 - val_loss: 0.1583 - val_acc: 0.9792\n",
      "Epoch 165/200\n",
      "60000/60000 [==============================] - 1s 15us/step - loss: 1.0606e-05 - acc: 1.0000 - val_loss: 0.1585 - val_acc: 0.9792\n",
      "Epoch 166/200\n",
      "60000/60000 [==============================] - 1s 15us/step - loss: 8.7908e-06 - acc: 1.0000 - val_loss: 0.1583 - val_acc: 0.9794\n",
      "Epoch 167/200\n",
      "60000/60000 [==============================] - 1s 16us/step - loss: 7.5109e-06 - acc: 1.0000 - val_loss: 0.1584 - val_acc: 0.9794\n",
      "Epoch 168/200\n",
      "60000/60000 [==============================] - 1s 15us/step - loss: 6.5219e-06 - acc: 1.0000 - val_loss: 0.1583 - val_acc: 0.9795\n",
      "Epoch 169/200\n",
      "60000/60000 [==============================] - 1s 15us/step - loss: 5.6953e-06 - acc: 1.0000 - val_loss: 0.1584 - val_acc: 0.9795\n",
      "Epoch 170/200\n",
      "60000/60000 [==============================] - 1s 15us/step - loss: 5.0094e-06 - acc: 1.0000 - val_loss: 0.1585 - val_acc: 0.9796\n",
      "Epoch 171/200\n",
      "60000/60000 [==============================] - 1s 15us/step - loss: 4.3693e-06 - acc: 1.0000 - val_loss: 0.1588 - val_acc: 0.9797\n",
      "Epoch 172/200\n",
      "60000/60000 [==============================] - 1s 15us/step - loss: 3.8378e-06 - acc: 1.0000 - val_loss: 0.1590 - val_acc: 0.9798\n"
     ]
    },
    {
     "name": "stdout",
     "output_type": "stream",
     "text": [
      "Epoch 173/200\n",
      "60000/60000 [==============================] - 1s 15us/step - loss: 3.3662e-06 - acc: 1.0000 - val_loss: 0.1590 - val_acc: 0.9798\n",
      "Epoch 174/200\n",
      "60000/60000 [==============================] - 1s 15us/step - loss: 2.9303e-06 - acc: 1.0000 - val_loss: 0.1593 - val_acc: 0.9801\n",
      "Epoch 175/200\n",
      "60000/60000 [==============================] - 1s 15us/step - loss: 2.5749e-06 - acc: 1.0000 - val_loss: 0.1592 - val_acc: 0.9802\n",
      "Epoch 176/200\n",
      "60000/60000 [==============================] - 1s 16us/step - loss: 2.2314e-06 - acc: 1.0000 - val_loss: 0.1599 - val_acc: 0.9801\n",
      "Epoch 177/200\n",
      "60000/60000 [==============================] - 1s 15us/step - loss: 1.9544e-06 - acc: 1.0000 - val_loss: 0.1601 - val_acc: 0.9800\n",
      "Epoch 178/200\n",
      "60000/60000 [==============================] - 1s 15us/step - loss: 1.6851e-06 - acc: 1.0000 - val_loss: 0.1607 - val_acc: 0.9800\n",
      "Epoch 179/200\n",
      "60000/60000 [==============================] - 1s 15us/step - loss: 1.4784e-06 - acc: 1.0000 - val_loss: 0.1609 - val_acc: 0.9802\n",
      "Epoch 180/200\n",
      "60000/60000 [==============================] - 1s 15us/step - loss: 1.2693e-06 - acc: 1.0000 - val_loss: 0.1618 - val_acc: 0.9800\n",
      "Epoch 181/200\n",
      "60000/60000 [==============================] - 1s 15us/step - loss: 1.1171e-06 - acc: 1.0000 - val_loss: 0.1623 - val_acc: 0.9801\n",
      "Epoch 182/200\n",
      "60000/60000 [==============================] - 1s 15us/step - loss: 9.8016e-07 - acc: 1.0000 - val_loss: 0.1632 - val_acc: 0.9800\n",
      "Epoch 183/200\n",
      "60000/60000 [==============================] - 1s 15us/step - loss: 8.4576e-07 - acc: 1.0000 - val_loss: 0.1637 - val_acc: 0.9803\n",
      "Epoch 184/200\n",
      "60000/60000 [==============================] - 1s 15us/step - loss: 7.4361e-07 - acc: 1.0000 - val_loss: 0.1644 - val_acc: 0.9801\n",
      "Epoch 185/200\n",
      "60000/60000 [==============================] - 1s 16us/step - loss: 6.4991e-07 - acc: 1.0000 - val_loss: 0.1653 - val_acc: 0.9801\n",
      "Epoch 186/200\n",
      "60000/60000 [==============================] - 1s 16us/step - loss: 5.6684e-07 - acc: 1.0000 - val_loss: 0.1654 - val_acc: 0.9801\n",
      "Epoch 187/200\n",
      "60000/60000 [==============================] - 1s 15us/step - loss: 5.1015e-07 - acc: 1.0000 - val_loss: 0.1664 - val_acc: 0.9800\n",
      "Epoch 188/200\n",
      "60000/60000 [==============================] - 1s 15us/step - loss: 4.4562e-07 - acc: 1.0000 - val_loss: 0.1663 - val_acc: 0.9804\n",
      "Epoch 189/200\n",
      "60000/60000 [==============================] - 1s 15us/step - loss: 3.8492e-07 - acc: 1.0000 - val_loss: 0.1678 - val_acc: 0.9802\n",
      "Epoch 190/200\n",
      "60000/60000 [==============================] - 1s 15us/step - loss: 3.4438e-07 - acc: 1.0000 - val_loss: 0.1700 - val_acc: 0.9802\n",
      "Epoch 191/200\n",
      "60000/60000 [==============================] - 1s 15us/step - loss: 3.1915e-07 - acc: 1.0000 - val_loss: 0.1695 - val_acc: 0.9808\n",
      "Epoch 192/200\n",
      "60000/60000 [==============================] - 1s 15us/step - loss: 2.8866e-07 - acc: 1.0000 - val_loss: 0.1712 - val_acc: 0.9806\n",
      "Epoch 193/200\n",
      "60000/60000 [==============================] - 1s 16us/step - loss: 0.0284 - acc: 0.9946 - val_loss: 0.1882 - val_acc: 0.9775\n",
      "Epoch 194/200\n",
      "60000/60000 [==============================] - 1s 16us/step - loss: 0.0018 - acc: 0.9993 - val_loss: 0.1803 - val_acc: 0.9782\n",
      "Epoch 195/200\n",
      "60000/60000 [==============================] - 1s 15us/step - loss: 8.5408e-04 - acc: 0.9997 - val_loss: 0.1738 - val_acc: 0.9786\n",
      "Epoch 196/200\n",
      "60000/60000 [==============================] - 1s 15us/step - loss: 8.1101e-04 - acc: 0.9996 - val_loss: 0.1789 - val_acc: 0.9785\n",
      "Epoch 197/200\n",
      "60000/60000 [==============================] - 1s 15us/step - loss: 0.0010 - acc: 0.9998 - val_loss: 0.1965 - val_acc: 0.9778\n",
      "Epoch 198/200\n",
      "60000/60000 [==============================] - 1s 15us/step - loss: 0.0087 - acc: 0.9978 - val_loss: 0.1971 - val_acc: 0.9766\n",
      "Epoch 199/200\n",
      "60000/60000 [==============================] - 1s 15us/step - loss: 0.0041 - acc: 0.9988 - val_loss: 0.2024 - val_acc: 0.9762\n",
      "Epoch 200/200\n",
      "60000/60000 [==============================] - 1s 15us/step - loss: 0.0039 - acc: 0.9988 - val_loss: 0.2146 - val_acc: 0.9734\n"
     ]
    },
    {
     "data": {
      "text/plain": [
       "<keras.callbacks.History at 0xb30c03898>"
      ]
     },
     "execution_count": 22,
     "metadata": {},
     "output_type": "execute_result"
    }
   ],
   "source": [
    "model.fit(X_train, y_train, batch_size=128, epochs=200, verbose=1, validation_data=(X_test, y_test))"
   ]
  },
  {
   "cell_type": "code",
   "execution_count": null,
   "metadata": {},
   "outputs": [],
   "source": []
  }
 ],
 "metadata": {
  "kernelspec": {
   "display_name": "Python 3",
   "language": "python",
   "name": "python3"
  },
  "language_info": {
   "codemirror_mode": {
    "name": "ipython",
    "version": 3
   },
   "file_extension": ".py",
   "mimetype": "text/x-python",
   "name": "python",
   "nbconvert_exporter": "python",
   "pygments_lexer": "ipython3",
   "version": "3.7.1"
  }
 },
 "nbformat": 4,
 "nbformat_minor": 2
}
